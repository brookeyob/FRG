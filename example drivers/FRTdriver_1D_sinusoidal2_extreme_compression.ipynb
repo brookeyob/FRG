{
 "cells": [
  {
   "cell_type": "markdown",
   "metadata": {},
   "source": [
    "# Compute solution for sinusoidal problem with extreme compression"
   ]
  },
  {
   "cell_type": "markdown",
   "metadata": {},
   "source": [
    "This jupyter notebook computes the solution of the Transport equation for some initial conditions ρ0 and u0 using the DG, DG +-limiter or DFRG methods.\n",
    "\n",
    "Problem parameters are specified and saved in the struct FRGSemidiscretizationDGMultiD.\n",
    "\n",
    "The semidiscretization struct is passed onto a custom time-stepper implementation, in this case a 3rd order SSPRK.\n",
    "\n",
    "The solution is visualized using GLMakie with a time slider to adjust the time point. Plotted points are evaluated based on the Galerkin solution, and the number of points plotted can be adjusted.\n",
    "\n",
    "Exampled are saved in a .ser file format as a vector [ sd, xs, ρ_out, u0, t_out]. This includes the sermidescretization (sd) , points specifying Lagrange polynomials (xs), the density solution over time (ρ_out), the velocity profile (u0), and the evaluated time points (t_out).\n",
    "\n",
    "Solutions can be saved and extracted from .ser files as needed.\n"
   ]
  },
  {
   "cell_type": "code",
   "execution_count": null,
   "metadata": {},
   "outputs": [],
   "source": [
    "using FRG\n",
    "using LinearAlgebra\n",
    "using GLMakie\n",
    "using Serialization"
   ]
  },
  {
   "cell_type": "markdown",
   "metadata": {},
   "source": [
    "Specify problem parameters"
   ]
  },
  {
   "cell_type": "code",
   "execution_count": null,
   "metadata": {},
   "outputs": [],
   "source": [
    "d = 1\n",
    "L = [ 1.0 ] # domain length\n",
    "m = [ 32 ] # number of discretization points\n",
    "p = [ 1 ] # polynomial order for basis functions\n",
    "n_q = [ 5  ] # number of quadrature points\n",
    "Δx = L ./ m # size of cell\n",
    "\n",
    "FR_weight = true # switch from DG to DFRG when true\n",
    "DG_limiter = false # switch from DG to DG+limiter when true\n",
    "catch_error = false # returns solution until method fails in case of failure\n",
    "\n",
    "n_plot = [ 500 ]\n",
    "Δx_plot = L./( n_plot .- 1 )\n",
    "\n",
    "xs = FRG.initialize_spacial_array(d,m,p,Δx)\n",
    "x_plot = FRG.initialize_plot_array(n_plot,Δx_plot,L) |> collect\n",
    "\n",
    "Δt = 1 / maximum(m) / 1.6 / 10 # time step \n",
    "Δt_record = 0.1 # time between recorded points\n",
    "T = 100.0 # time\n",
    "\n",
    "# initial conditions of length m*p (number of parameters)\n",
    "ρ_fxn(x) = 1.0\n",
    "u_fxn(x) = [ sin(2*pi*x[1]) .+ 1.01  ]\n",
    "\n",
    "ρ0 = map( x-> ρ_fxn(x) , xs )\n",
    "u0 = map( x -> u_fxn(x) , xs );"
   ]
  },
  {
   "cell_type": "markdown",
   "metadata": {},
   "source": [
    "Initialize semidiscretization"
   ]
  },
  {
   "cell_type": "code",
   "execution_count": null,
   "metadata": {},
   "outputs": [],
   "source": [
    "sd = FRG.FRGSemidiscretizationDGMultiD( p,\n",
    "                                        d,\n",
    "                                        Δx,\n",
    "                                        Δt,\n",
    "                                        m,\n",
    "                                        n_q,\n",
    "                                        f_type=\"upwind\",\n",
    "                                        FR_weight=FR_weight,\n",
    "                                        quad_type=\"clenshaw_curtis\" );"
   ]
  },
  {
   "cell_type": "markdown",
   "metadata": {},
   "source": [
    "Solve the problem"
   ]
  },
  {
   "cell_type": "code",
   "execution_count": null,
   "metadata": {},
   "outputs": [],
   "source": [
    "# solve the problem\n",
    "\n",
    "ρ_out , t_out = FRG.rk3(    sd, \n",
    "                            T, \n",
    "                            ρ0, \n",
    "                            u0, \n",
    "                            Δt_record, \n",
    "                            DG_limiter=DG_limiter,  \n",
    "                            catch_error=catch_error );"
   ]
  },
  {
   "cell_type": "markdown",
   "metadata": {},
   "source": [
    "Plot the solution"
   ]
  },
  {
   "cell_type": "code",
   "execution_count": null,
   "metadata": {},
   "outputs": [],
   "source": [
    "n_plot = [ 300 ]  # specify number of points to plot\n",
    "Δx_plot = L./( n_plot .- 1 ) \n",
    "x_plot = collect( FRG.initialize_plot_array(n_plot,Δx_plot,L) )\n",
    "\n",
    "ρ_plot, u_plot = FRG.evaluate_plot_points(  sd,\n",
    "                                            x_plot,\n",
    "                                            ρ_out,\n",
    "                                            u0,\n",
    "                                            t_out   )\n",
    "\n",
    "fig = FRG.plot_1D_FRG_solution(     sd, \n",
    "                                    ρ_plot, \n",
    "                                    u_plot, \n",
    "                                    x_plot, \n",
    "                                    t_out   )\n",
    "\n",
    "display(fig)"
   ]
  },
  {
   "cell_type": "markdown",
   "metadata": {},
   "source": [
    "Save computed solution"
   ]
  },
  {
   "cell_type": "code",
   "execution_count": null,
   "metadata": {},
   "outputs": [],
   "source": [
    "#=\n",
    "file_name = FRG.generate_saved_example_file_name(   sd::FRGSemidiscretizationDGMultiD,\n",
    "                                                    \"bump\",\n",
    "                                                    DG_limiter,\n",
    "                                                    T)\n",
    "\n",
    "file_folder = \"saved examples\" \n",
    "directory_name = dirname(@__DIR__)\n",
    "file_path = joinpath(directory_name, file_folder, file_name)  \n",
    "\n",
    "if !isfile(file_path)\n",
    "    open(file_path, \"w\") do f\n",
    "        serialize(f, [ sd, xs, ρ_out, u0, t_out] )\n",
    "    end\n",
    "end\n",
    "=#"
   ]
  },
  {
   "cell_type": "markdown",
   "metadata": {},
   "source": [
    "Open saved example"
   ]
  },
  {
   "cell_type": "code",
   "execution_count": null,
   "metadata": {},
   "outputs": [],
   "source": [
    "#=\n",
    "file_name = \"DFRG_bump_1D_8_p_1_q_11_T_50-0.ser\"\n",
    "file_folder = \"saved examples/1D_bump\" \n",
    "directory_name = dirname(@__DIR__)\n",
    "file_path = joinpath(directory_name, file_folder, file_name)  \n",
    "\n",
    "sd, xs, ρ_out, u0, t_out = open(file_path, \"r\") do file\n",
    "    deserialize(file)\n",
    "end;\n",
    "=#"
   ]
  }
 ],
 "metadata": {
  "kernelspec": {
   "display_name": "Julia 1.11.3",
   "language": "julia",
   "name": "julia-1.11"
  },
  "language_info": {
   "file_extension": ".jl",
   "mimetype": "application/julia",
   "name": "julia",
   "version": "1.11.3"
  },
  "orig_nbformat": 4
 },
 "nbformat": 4,
 "nbformat_minor": 2
}
